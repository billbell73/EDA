{
 "cells": [
  {
   "cell_type": "code",
   "execution_count": null,
   "metadata": {},
   "outputs": [],
   "source": [
    "%load_ext autoreload\n",
    "%autoreload 2"
   ]
  },
  {
   "cell_type": "code",
   "execution_count": 1,
   "metadata": {},
   "outputs": [],
   "source": [
    "import sqlalchemy as db\n",
    "import pandas as pd"
   ]
  },
  {
   "cell_type": "code",
   "execution_count": 2,
   "metadata": {
    "pycharm": {
     "name": "#%%\n"
    }
   },
   "outputs": [],
   "source": [
    "engine = db.create_engine(\"sqlite:///mta_data.db\")"
   ]
  },
  {
   "cell_type": "code",
   "execution_count": 3,
   "metadata": {
    "pycharm": {
     "name": "#%%\n"
    }
   },
   "outputs": [],
   "source": [
    "df = pd.read_sql(\"SELECT * FROM mta_data;\", engine)"
   ]
  },
  {
   "cell_type": "code",
   "execution_count": 4,
   "metadata": {
    "pycharm": {
     "name": "#%%\n"
    }
   },
   "outputs": [
    {
     "name": "stdout",
     "output_type": "stream",
     "text": [
      "<class 'pandas.core.frame.DataFrame'>\n",
      "RangeIndex: 3508369 entries, 0 to 3508368\n",
      "Data columns (total 11 columns):\n",
      " #   Column    Dtype \n",
      "---  ------    ----- \n",
      " 0   C/A       object\n",
      " 1   UNIT      object\n",
      " 2   SCP       object\n",
      " 3   STATION   object\n",
      " 4   LINENAME  object\n",
      " 5   DIVISION  object\n",
      " 6   DATE      object\n",
      " 7   TIME      object\n",
      " 8   DESC      object\n",
      " 9   ENTRIES   int64 \n",
      " 10  EXITS     int64 \n",
      "dtypes: int64(2), object(9)\n",
      "memory usage: 294.4+ MB\n"
     ]
    }
   ],
   "source": [
    "df.info()"
   ]
  },
  {
   "cell_type": "code",
   "execution_count": 5,
   "metadata": {
    "pycharm": {
     "name": "#%%\n"
    }
   },
   "outputs": [],
   "source": [
    "def get_daily_counts(row, max_counter, turnstile_direction):\n",
    "    count_name = turnstile_direction\n",
    "    prev_count_name = f\"PREV_{turnstile_direction}\"\n",
    "    counter = row[count_name] - row[prev_count_name]\n",
    "    if counter < 0:\n",
    "        # Maybe counter is reversed?\n",
    "        counter = -counter\n",
    "    if counter > max_counter:\n",
    "        # Maybe counter was reset to 0?\n",
    "        print(row[count_name], row[prev_count_name])\n",
    "        counter = min(row[count_name], row[prev_count_name])\n",
    "    if counter > max_counter:\n",
    "        # Check it again to make sure we're not still giving a counter that's too big\n",
    "        return 0\n",
    "    return counter"
   ]
  },
  {
   "cell_type": "code",
   "execution_count": 40,
   "metadata": {
    "pycharm": {
     "name": "#%%\n"
    }
   },
   "outputs": [],
   "source": [
    "import calendar\n",
    "\n",
    "def stations_monthly(data, stations, month, year, turnstile_direction):\n",
    "    data = data[data.STATION.isin(stations)]\n",
    "    data.loc[:, \"DATE_FORMATTED\"] = pd.to_datetime(data.loc[:, \"DATE\"])\n",
    "    data = data[(data.DATE_FORMATTED.dt.month == month) & (data.DATE_FORMATTED.dt.year == year)]\n",
    "    turnstiles_daily = (data.groupby([\"C/A\", \"UNIT\", \"SCP\", \"STATION\", \"DATE_FORMATTED\"],as_index=False)[turnstile_direction].max())\n",
    "    turnstiles_daily[[\"PREV_DATE\", f\"PREV_{turnstile_direction}\"]] = turnstiles_daily.groupby([\"C/A\", \"UNIT\", \"SCP\", \"STATION\"])[[\"DATE_FORMATTED\", turnstile_direction]].shift(1)\n",
    "    turnstiles_daily.dropna(subset=[\"PREV_DATE\"], axis=0, inplace=True)\n",
    "    turnstiles_daily[f\"DAILY_{turnstile_direction}\"] = turnstiles_daily.apply(get_daily_counts, axis=1, max_counter=500000, turnstile_direction=turnstile_direction)\n",
    "    print(turnstiles_daily[f\"DAILY_{turnstile_direction}\"].describe().apply(lambda x: '%.0f' % x))\n",
    "    print(turnstiles_daily.groupby(\"STATION\").size())\n",
    "    station_totals = turnstiles_daily.groupby(\"STATION\")[f\"DAILY_{turnstile_direction}\"].sum()\n",
    "    return station_totals.rename(f\"{calendar.month_abbr[month].upper()}_{turnstile_direction}\")"
   ]
  },
  {
   "cell_type": "code",
   "execution_count": 41,
   "metadata": {
    "pycharm": {
     "name": "#%%\n"
    }
   },
   "outputs": [
    {
     "name": "stdout",
     "output_type": "stream",
     "text": [
      "66 500623.0\n",
      "779 2844722.0\n",
      "count     9417\n",
      "mean       197\n",
      "std        983\n",
      "min          0\n",
      "25%          1\n",
      "50%         88\n",
      "75%        245\n",
      "max      65527\n",
      "Name: DAILY_ENTRIES, dtype: object\n",
      "STATION\n",
      "116 ST-COLUMBIA     180\n",
      "161/YANKEE STAD    1110\n",
      "5 AVE               300\n",
      "BEACH 67 ST         150\n",
      "BLEECKER ST         270\n",
      "BRONX PARK EAST      90\n",
      "BROOKLYN BRIDGE     510\n",
      "CONEY IS-STILLW     596\n",
      "FORDHAM RD          480\n",
      "GRD CNTRL-42 ST    2661\n",
      "HOWARD BCH JFK      430\n",
      "JAMAICA VAN WK      210\n",
      "LAFAYETTE AV        300\n",
      "SOUTH FERRY         630\n",
      "WALL ST            1500\n",
      "dtype: int64\n"
     ]
    },
    {
     "data": {
      "text/plain": [
       "STATION\n",
       "116 ST-COLUMBIA     51535.0\n",
       "161/YANKEE STAD    205356.0\n",
       "5 AVE               66015.0\n",
       "BEACH 67 ST         23327.0\n",
       "BLEECKER ST         77512.0\n",
       "BRONX PARK EAST     23457.0\n",
       "BROOKLYN BRIDGE     71199.0\n",
       "CONEY IS-STILLW    129971.0\n",
       "FORDHAM RD         287186.0\n",
       "GRD CNTRL-42 ST    601823.0\n",
       "HOWARD BCH JFK      31267.0\n",
       "JAMAICA VAN WK      46446.0\n",
       "LAFAYETTE AV        33562.0\n",
       "SOUTH FERRY         66194.0\n",
       "WALL ST            144744.0\n",
       "Name: JAN_ENTRIES, dtype: float64"
      ]
     },
     "execution_count": 41,
     "metadata": {},
     "output_type": "execute_result"
    }
   ],
   "source": [
    "crazy_stations = ['GRD CNTRL-42 ST', 'WALL ST', 'HOWARD BCH JFK', '161/YANKEE STAD', 'CONEY IS-STILLW', 'BLEECKER ST', '116 ST-COLUMBIA', 'FORDHAM RD', 'BRONX PARK EAST', 'BEACH 67 ST', 'SOUTH FERRY', '5 AVE', 'JAMAICA VAN WK', 'BROOKLYN BRIDGE', 'LAFAYETTE AV']\n",
    "\n",
    "jan_21_entries = stations_monthly(df, crazy_stations, 1, 2021, \"ENTRIES\")\n",
    "# jan_19_entries = stations_monthly(df, crazy_stations, 1, 2019, \"ENTRIES\")\n",
    "#\n",
    "# jan_21_exits = stations_monthly(df, crazy_stations, 1, 2021, \"EXITS\")\n",
    "# jan_19_exits = stations_monthly(df, crazy_stations, 1, 2019, \"EXITS\")\n",
    "jan_21_entries"
   ]
  },
  {
   "cell_type": "code",
   "execution_count": 42,
   "metadata": {
    "pycharm": {
     "name": "#%%\n"
    }
   },
   "outputs": [],
   "source": [
    "# jan_entries_change = (jan_21_entries - jan_19_entries) / jan_19_entries * 100\n",
    "# jan_entries_change = jan_entries_change.round(1)\n",
    "# jan_entries_change = jan_entries_change.rename(\"ENTRIES\")\n",
    "# jan_entries_change = jan_entries_change.sort_values(ascending=False)\n",
    "# jan_entries_change"
   ]
  },
  {
   "cell_type": "code",
   "execution_count": 43,
   "metadata": {
    "pycharm": {
     "name": "#%%\n"
    }
   },
   "outputs": [],
   "source": [
    "def station_percent_change(month, turnstile_direction, data=df, stations=crazy_stations, newer_year=2021, older_year=2019):\n",
    "    newer_month_count = stations_monthly(data, stations, month, newer_year, turnstile_direction)\n",
    "    older_month_count = stations_monthly(data, stations, month, older_year, turnstile_direction)\n",
    "\n",
    "    count_change = (newer_month_count - older_month_count) / older_month_count * 100\n",
    "    return count_change.round(1)"
   ]
  },
  {
   "cell_type": "code",
   "execution_count": 46,
   "metadata": {
    "pycharm": {
     "is_executing": true,
     "name": "#%%\n"
    }
   },
   "outputs": [
    {
     "name": "stdout",
     "output_type": "stream",
     "text": [
      "66 500623.0\n",
      "779 2844722.0\n",
      "count     9417\n",
      "mean       197\n",
      "std        983\n",
      "min          0\n",
      "25%          1\n",
      "50%         88\n",
      "75%        245\n",
      "max      65527\n",
      "Name: DAILY_ENTRIES, dtype: object\n",
      "STATION\n",
      "116 ST-COLUMBIA     180\n",
      "161/YANKEE STAD    1110\n",
      "5 AVE               300\n",
      "BEACH 67 ST         150\n",
      "BLEECKER ST         270\n",
      "BRONX PARK EAST      90\n",
      "BROOKLYN BRIDGE     510\n",
      "CONEY IS-STILLW     596\n",
      "FORDHAM RD          480\n",
      "GRD CNTRL-42 ST    2661\n",
      "HOWARD BCH JFK      430\n",
      "JAMAICA VAN WK      210\n",
      "LAFAYETTE AV        300\n",
      "SOUTH FERRY         630\n",
      "WALL ST            1500\n",
      "dtype: int64\n",
      "1629 2353351.0\n",
      "11 270306326.0\n",
      "16 1847577.0\n",
      "787 3173773.0\n",
      "589826 201857085.0\n",
      "count      8664\n",
      "mean       1028\n",
      "std        4432\n",
      "min           0\n",
      "25%          79\n",
      "50%         628\n",
      "75%        1467\n",
      "max      294807\n",
      "Name: DAILY_ENTRIES, dtype: object\n",
      "STATION\n",
      "116 ST-COLUMBIA     180\n",
      "161/YANKEE STAD    1050\n",
      "5 AVE               300\n",
      "BEACH 67 ST         150\n",
      "BLEECKER ST         270\n",
      "BRONX PARK EAST      90\n",
      "BROOKLYN BRIDGE     509\n",
      "CONEY IS-STILLW     600\n",
      "FORDHAM RD          480\n",
      "GRD CNTRL-42 ST    1945\n",
      "HOWARD BCH JFK      480\n",
      "JAMAICA VAN WK      210\n",
      "LAFAYETTE AV        270\n",
      "SOUTH FERRY         630\n",
      "WALL ST            1500\n",
      "dtype: int64\n",
      "59 805938.0\n",
      "435 2837182.0\n",
      "count      9417\n",
      "mean        203\n",
      "std        1564\n",
      "min           0\n",
      "25%           3\n",
      "50%          70\n",
      "75%         226\n",
      "max      130556\n",
      "Name: DAILY_EXITS, dtype: object\n",
      "STATION\n",
      "116 ST-COLUMBIA     180\n",
      "161/YANKEE STAD    1110\n",
      "5 AVE               300\n",
      "BEACH 67 ST         150\n",
      "BLEECKER ST         270\n",
      "BRONX PARK EAST      90\n",
      "BROOKLYN BRIDGE     510\n",
      "CONEY IS-STILLW     596\n",
      "FORDHAM RD          480\n",
      "GRD CNTRL-42 ST    2661\n",
      "HOWARD BCH JFK      430\n",
      "JAMAICA VAN WK      210\n",
      "LAFAYETTE AV        300\n",
      "SOUTH FERRY         630\n",
      "WALL ST            1500\n",
      "dtype: int64\n",
      "883 1009858.0\n",
      "1 270013701.0\n",
      "2 833704.0\n",
      "733 3954540.0\n",
      "9 50543717.0\n",
      "count      8664\n",
      "mean        763\n",
      "std        1776\n",
      "min           0\n",
      "25%          65\n",
      "50%         351\n",
      "75%         937\n",
      "max      118921\n",
      "Name: DAILY_EXITS, dtype: object\n",
      "STATION\n",
      "116 ST-COLUMBIA     180\n",
      "161/YANKEE STAD    1050\n",
      "5 AVE               300\n",
      "BEACH 67 ST         150\n",
      "BLEECKER ST         270\n",
      "BRONX PARK EAST      90\n",
      "BROOKLYN BRIDGE     509\n",
      "CONEY IS-STILLW     600\n",
      "FORDHAM RD          480\n",
      "GRD CNTRL-42 ST    1945\n",
      "HOWARD BCH JFK      480\n",
      "JAMAICA VAN WK      210\n",
      "LAFAYETTE AV        270\n",
      "SOUTH FERRY         630\n",
      "WALL ST            1500\n",
      "dtype: int64\n"
     ]
    }
   ],
   "source": [
    "changes = pd.concat([station_percent_change(1, \"ENTRIES\"), station_percent_change(1, \"EXITS\")], axis=1)\n",
    "changes = changes.sort_values(by=\"JAN_ENTRIES\", ascending=False)"
   ]
  },
  {
   "cell_type": "code",
   "execution_count": 47,
   "metadata": {
    "pycharm": {
     "name": "#%%\n"
    }
   },
   "outputs": [
    {
     "data": {
      "text/plain": [
       "<matplotlib.legend.Legend at 0x7fd708b69070>"
      ]
     },
     "execution_count": 47,
     "metadata": {},
     "output_type": "execute_result"
    },
    {
     "data": {
      "image/png": "[encoded data removed]",
      "text/plain": [
       "<Figure size 432x288 with 1 Axes>"
      ]
     },
     "metadata": {
      "needs_background": "light"
     },
     "output_type": "display_data"
    }
   ],
   "source": [
    "changes.plot.barh(title=\"Percentage change in turnstile entries between Jan 2019 and Jan 2021\").legend(bbox_to_anchor=(1,0.5))"
   ]
  },
  {
   "cell_type": "code",
   "execution_count": null,
   "metadata": {
    "pycharm": {
     "name": "#%%\n"
    }
   },
   "outputs": [],
   "source": []
  }
 ],
 "metadata": {
  "kernelspec": {
   "display_name": "Python 3 (ipykernel)",
   "language": "python",
   "name": "python3"
  },
  "language_info": {
   "codemirror_mode": {
    "name": "ipython",
    "version": 3
   },
   "file_extension": ".py",
   "mimetype": "text/x-python",
   "name": "python",
   "nbconvert_exporter": "python",
   "pygments_lexer": "ipython3",
   "version": "3.8.10"
  }
 },
 "nbformat": 4,
 "nbformat_minor": 1
}
