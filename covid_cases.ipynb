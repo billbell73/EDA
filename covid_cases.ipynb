{
 "cells": [
  {
   "cell_type": "code",
   "execution_count": 1,
   "metadata": {
    "collapsed": true
   },
   "outputs": [],
   "source": [
    "import pandas as pd"
   ]
  },
  {
   "cell_type": "code",
   "execution_count": 8,
   "outputs": [],
   "source": [
    "covid_cases = pd.read_csv('https://raw.githubusercontent.com/nychealth/coronavirus-data/master/trends/cases-by-day.csv')"
   ],
   "metadata": {
    "collapsed": false,
    "pycharm": {
     "name": "#%%\n"
    }
   }
  },
  {
   "cell_type": "code",
   "execution_count": 9,
   "outputs": [
    {
     "data": {
      "text/plain": "  date_of_interest  CASE_COUNT  PROBABLE_CASE_COUNT  CASE_COUNT_7DAY_AVG  \\\n0       02/29/2020           1                    0                    0   \n1       03/01/2020           0                    0                    0   \n2       03/02/2020           0                    0                    0   \n3       03/03/2020           1                    0                    0   \n4       03/04/2020           5                    0                    0   \n\n   ALL_CASE_COUNT_7DAY_AVG  BX_CASE_COUNT  BX_PROBABLE_CASE_COUNT  \\\n0                        0              0                       0   \n1                        0              0                       0   \n2                        0              0                       0   \n3                        0              0                       0   \n4                        0              0                       0   \n\n   BX_CASE_COUNT_7DAY_AVG  BX_ALL_CASE_COUNT_7DAY_AVG  BK_CASE_COUNT  ...  \\\n0                       0                           0              0  ...   \n1                       0                           0              0  ...   \n2                       0                           0              0  ...   \n3                       0                           0              0  ...   \n4                       0                           0              1  ...   \n\n   MN_ALL_CASE_COUNT_7DAY_AVG  QN_CASE_COUNT  QN_PROBABLE_CASE_COUNT  \\\n0                           0              0                       0   \n1                           0              0                       0   \n2                           0              0                       0   \n3                           0              1                       0   \n4                           0              2                       0   \n\n   QN_CASE_COUNT_7DAY_AVG  QN_ALL_CASE_COUNT_7DAY_AVG  SI_CASE_COUNT  \\\n0                       0                           0              0   \n1                       0                           0              0   \n2                       0                           0              0   \n3                       0                           0              0   \n4                       0                           0              0   \n\n   SI_PROBABLE_CASE_COUNT  SI_CASE_COUNT_7DAY_AVG  SI_ALL_CASE_COUNT_7DAY_AVG  \\\n0                       0                       0                           0   \n1                       0                       0                           0   \n2                       0                       0                           0   \n3                       0                       0                           0   \n4                       0                       0                           0   \n\n   INCOMPLETE  \n0           0  \n1           0  \n2           0  \n3           0  \n4           0  \n\n[5 rows x 26 columns]",
      "text/html": "<div>\n<style scoped>\n    .dataframe tbody tr th:only-of-type {\n        vertical-align: middle;\n    }\n\n    .dataframe tbody tr th {\n        vertical-align: top;\n    }\n\n    .dataframe thead th {\n        text-align: right;\n    }\n</style>\n<table border=\"1\" class=\"dataframe\">\n  <thead>\n    <tr style=\"text-align: right;\">\n      <th></th>\n      <th>date_of_interest</th>\n      <th>CASE_COUNT</th>\n      <th>PROBABLE_CASE_COUNT</th>\n      <th>CASE_COUNT_7DAY_AVG</th>\n      <th>ALL_CASE_COUNT_7DAY_AVG</th>\n      <th>BX_CASE_COUNT</th>\n      <th>BX_PROBABLE_CASE_COUNT</th>\n      <th>BX_CASE_COUNT_7DAY_AVG</th>\n      <th>BX_ALL_CASE_COUNT_7DAY_AVG</th>\n      <th>BK_CASE_COUNT</th>\n      <th>...</th>\n      <th>MN_ALL_CASE_COUNT_7DAY_AVG</th>\n      <th>QN_CASE_COUNT</th>\n      <th>QN_PROBABLE_CASE_COUNT</th>\n      <th>QN_CASE_COUNT_7DAY_AVG</th>\n      <th>QN_ALL_CASE_COUNT_7DAY_AVG</th>\n      <th>SI_CASE_COUNT</th>\n      <th>SI_PROBABLE_CASE_COUNT</th>\n      <th>SI_CASE_COUNT_7DAY_AVG</th>\n      <th>SI_ALL_CASE_COUNT_7DAY_AVG</th>\n      <th>INCOMPLETE</th>\n    </tr>\n  </thead>\n  <tbody>\n    <tr>\n      <th>0</th>\n      <td>02/29/2020</td>\n      <td>1</td>\n      <td>0</td>\n      <td>0</td>\n      <td>0</td>\n      <td>0</td>\n      <td>0</td>\n      <td>0</td>\n      <td>0</td>\n      <td>0</td>\n      <td>...</td>\n      <td>0</td>\n      <td>0</td>\n      <td>0</td>\n      <td>0</td>\n      <td>0</td>\n      <td>0</td>\n      <td>0</td>\n      <td>0</td>\n      <td>0</td>\n      <td>0</td>\n    </tr>\n    <tr>\n      <th>1</th>\n      <td>03/01/2020</td>\n      <td>0</td>\n      <td>0</td>\n      <td>0</td>\n      <td>0</td>\n      <td>0</td>\n      <td>0</td>\n      <td>0</td>\n      <td>0</td>\n      <td>0</td>\n      <td>...</td>\n      <td>0</td>\n      <td>0</td>\n      <td>0</td>\n      <td>0</td>\n      <td>0</td>\n      <td>0</td>\n      <td>0</td>\n      <td>0</td>\n      <td>0</td>\n      <td>0</td>\n    </tr>\n    <tr>\n      <th>2</th>\n      <td>03/02/2020</td>\n      <td>0</td>\n      <td>0</td>\n      <td>0</td>\n      <td>0</td>\n      <td>0</td>\n      <td>0</td>\n      <td>0</td>\n      <td>0</td>\n      <td>0</td>\n      <td>...</td>\n      <td>0</td>\n      <td>0</td>\n      <td>0</td>\n      <td>0</td>\n      <td>0</td>\n      <td>0</td>\n      <td>0</td>\n      <td>0</td>\n      <td>0</td>\n      <td>0</td>\n    </tr>\n    <tr>\n      <th>3</th>\n      <td>03/03/2020</td>\n      <td>1</td>\n      <td>0</td>\n      <td>0</td>\n      <td>0</td>\n      <td>0</td>\n      <td>0</td>\n      <td>0</td>\n      <td>0</td>\n      <td>0</td>\n      <td>...</td>\n      <td>0</td>\n      <td>1</td>\n      <td>0</td>\n      <td>0</td>\n      <td>0</td>\n      <td>0</td>\n      <td>0</td>\n      <td>0</td>\n      <td>0</td>\n      <td>0</td>\n    </tr>\n    <tr>\n      <th>4</th>\n      <td>03/04/2020</td>\n      <td>5</td>\n      <td>0</td>\n      <td>0</td>\n      <td>0</td>\n      <td>0</td>\n      <td>0</td>\n      <td>0</td>\n      <td>0</td>\n      <td>1</td>\n      <td>...</td>\n      <td>0</td>\n      <td>2</td>\n      <td>0</td>\n      <td>0</td>\n      <td>0</td>\n      <td>0</td>\n      <td>0</td>\n      <td>0</td>\n      <td>0</td>\n      <td>0</td>\n    </tr>\n  </tbody>\n</table>\n<p>5 rows × 26 columns</p>\n</div>"
     },
     "execution_count": 9,
     "metadata": {},
     "output_type": "execute_result"
    }
   ],
   "source": [
    "covid_cases.head()"
   ],
   "metadata": {
    "collapsed": false,
    "pycharm": {
     "name": "#%%\n"
    }
   }
  },
  {
   "cell_type": "code",
   "execution_count": 10,
   "outputs": [],
   "source": [
    "covid_cases.loc[:, \"date\"] = pd.to_datetime(covid_cases.loc[:, \"date_of_interest\"])"
   ],
   "metadata": {
    "collapsed": false,
    "pycharm": {
     "name": "#%%\n"
    }
   }
  },
  {
   "cell_type": "code",
   "execution_count": 11,
   "outputs": [
    {
     "data": {
      "text/plain": "  date_of_interest  CASE_COUNT  PROBABLE_CASE_COUNT  CASE_COUNT_7DAY_AVG  \\\n0       02/29/2020           1                    0                    0   \n1       03/01/2020           0                    0                    0   \n2       03/02/2020           0                    0                    0   \n3       03/03/2020           1                    0                    0   \n4       03/04/2020           5                    0                    0   \n\n   ALL_CASE_COUNT_7DAY_AVG  BX_CASE_COUNT  BX_PROBABLE_CASE_COUNT  \\\n0                        0              0                       0   \n1                        0              0                       0   \n2                        0              0                       0   \n3                        0              0                       0   \n4                        0              0                       0   \n\n   BX_CASE_COUNT_7DAY_AVG  BX_ALL_CASE_COUNT_7DAY_AVG  BK_CASE_COUNT  ...  \\\n0                       0                           0              0  ...   \n1                       0                           0              0  ...   \n2                       0                           0              0  ...   \n3                       0                           0              0  ...   \n4                       0                           0              1  ...   \n\n   QN_CASE_COUNT  QN_PROBABLE_CASE_COUNT  QN_CASE_COUNT_7DAY_AVG  \\\n0              0                       0                       0   \n1              0                       0                       0   \n2              0                       0                       0   \n3              1                       0                       0   \n4              2                       0                       0   \n\n   QN_ALL_CASE_COUNT_7DAY_AVG  SI_CASE_COUNT  SI_PROBABLE_CASE_COUNT  \\\n0                           0              0                       0   \n1                           0              0                       0   \n2                           0              0                       0   \n3                           0              0                       0   \n4                           0              0                       0   \n\n   SI_CASE_COUNT_7DAY_AVG  SI_ALL_CASE_COUNT_7DAY_AVG  INCOMPLETE       date  \n0                       0                           0           0 2020-02-29  \n1                       0                           0           0 2020-03-01  \n2                       0                           0           0 2020-03-02  \n3                       0                           0           0 2020-03-03  \n4                       0                           0           0 2020-03-04  \n\n[5 rows x 27 columns]",
      "text/html": "<div>\n<style scoped>\n    .dataframe tbody tr th:only-of-type {\n        vertical-align: middle;\n    }\n\n    .dataframe tbody tr th {\n        vertical-align: top;\n    }\n\n    .dataframe thead th {\n        text-align: right;\n    }\n</style>\n<table border=\"1\" class=\"dataframe\">\n  <thead>\n    <tr style=\"text-align: right;\">\n      <th></th>\n      <th>date_of_interest</th>\n      <th>CASE_COUNT</th>\n      <th>PROBABLE_CASE_COUNT</th>\n      <th>CASE_COUNT_7DAY_AVG</th>\n      <th>ALL_CASE_COUNT_7DAY_AVG</th>\n      <th>BX_CASE_COUNT</th>\n      <th>BX_PROBABLE_CASE_COUNT</th>\n      <th>BX_CASE_COUNT_7DAY_AVG</th>\n      <th>BX_ALL_CASE_COUNT_7DAY_AVG</th>\n      <th>BK_CASE_COUNT</th>\n      <th>...</th>\n      <th>QN_CASE_COUNT</th>\n      <th>QN_PROBABLE_CASE_COUNT</th>\n      <th>QN_CASE_COUNT_7DAY_AVG</th>\n      <th>QN_ALL_CASE_COUNT_7DAY_AVG</th>\n      <th>SI_CASE_COUNT</th>\n      <th>SI_PROBABLE_CASE_COUNT</th>\n      <th>SI_CASE_COUNT_7DAY_AVG</th>\n      <th>SI_ALL_CASE_COUNT_7DAY_AVG</th>\n      <th>INCOMPLETE</th>\n      <th>date</th>\n    </tr>\n  </thead>\n  <tbody>\n    <tr>\n      <th>0</th>\n      <td>02/29/2020</td>\n      <td>1</td>\n      <td>0</td>\n      <td>0</td>\n      <td>0</td>\n      <td>0</td>\n      <td>0</td>\n      <td>0</td>\n      <td>0</td>\n      <td>0</td>\n      <td>...</td>\n      <td>0</td>\n      <td>0</td>\n      <td>0</td>\n      <td>0</td>\n      <td>0</td>\n      <td>0</td>\n      <td>0</td>\n      <td>0</td>\n      <td>0</td>\n      <td>2020-02-29</td>\n    </tr>\n    <tr>\n      <th>1</th>\n      <td>03/01/2020</td>\n      <td>0</td>\n      <td>0</td>\n      <td>0</td>\n      <td>0</td>\n      <td>0</td>\n      <td>0</td>\n      <td>0</td>\n      <td>0</td>\n      <td>0</td>\n      <td>...</td>\n      <td>0</td>\n      <td>0</td>\n      <td>0</td>\n      <td>0</td>\n      <td>0</td>\n      <td>0</td>\n      <td>0</td>\n      <td>0</td>\n      <td>0</td>\n      <td>2020-03-01</td>\n    </tr>\n    <tr>\n      <th>2</th>\n      <td>03/02/2020</td>\n      <td>0</td>\n      <td>0</td>\n      <td>0</td>\n      <td>0</td>\n      <td>0</td>\n      <td>0</td>\n      <td>0</td>\n      <td>0</td>\n      <td>0</td>\n      <td>...</td>\n      <td>0</td>\n      <td>0</td>\n      <td>0</td>\n      <td>0</td>\n      <td>0</td>\n      <td>0</td>\n      <td>0</td>\n      <td>0</td>\n      <td>0</td>\n      <td>2020-03-02</td>\n    </tr>\n    <tr>\n      <th>3</th>\n      <td>03/03/2020</td>\n      <td>1</td>\n      <td>0</td>\n      <td>0</td>\n      <td>0</td>\n      <td>0</td>\n      <td>0</td>\n      <td>0</td>\n      <td>0</td>\n      <td>0</td>\n      <td>...</td>\n      <td>1</td>\n      <td>0</td>\n      <td>0</td>\n      <td>0</td>\n      <td>0</td>\n      <td>0</td>\n      <td>0</td>\n      <td>0</td>\n      <td>0</td>\n      <td>2020-03-03</td>\n    </tr>\n    <tr>\n      <th>4</th>\n      <td>03/04/2020</td>\n      <td>5</td>\n      <td>0</td>\n      <td>0</td>\n      <td>0</td>\n      <td>0</td>\n      <td>0</td>\n      <td>0</td>\n      <td>0</td>\n      <td>1</td>\n      <td>...</td>\n      <td>2</td>\n      <td>0</td>\n      <td>0</td>\n      <td>0</td>\n      <td>0</td>\n      <td>0</td>\n      <td>0</td>\n      <td>0</td>\n      <td>0</td>\n      <td>2020-03-04</td>\n    </tr>\n  </tbody>\n</table>\n<p>5 rows × 27 columns</p>\n</div>"
     },
     "execution_count": 11,
     "metadata": {},
     "output_type": "execute_result"
    }
   ],
   "source": [
    "covid_cases.head()"
   ],
   "metadata": {
    "collapsed": false,
    "pycharm": {
     "name": "#%%\n"
    }
   }
  },
  {
   "cell_type": "code",
   "execution_count": 13,
   "outputs": [
    {
     "name": "stdout",
     "output_type": "stream",
     "text": [
      "<class 'pandas.core.frame.DataFrame'>\n",
      "RangeIndex: 585 entries, 0 to 584\n",
      "Data columns (total 27 columns):\n",
      " #   Column                      Non-Null Count  Dtype         \n",
      "---  ------                      --------------  -----         \n",
      " 0   date_of_interest            585 non-null    object        \n",
      " 1   CASE_COUNT                  585 non-null    int64         \n",
      " 2   PROBABLE_CASE_COUNT         585 non-null    int64         \n",
      " 3   CASE_COUNT_7DAY_AVG         585 non-null    int64         \n",
      " 4   ALL_CASE_COUNT_7DAY_AVG     585 non-null    int64         \n",
      " 5   BX_CASE_COUNT               585 non-null    int64         \n",
      " 6   BX_PROBABLE_CASE_COUNT      585 non-null    int64         \n",
      " 7   BX_CASE_COUNT_7DAY_AVG      585 non-null    int64         \n",
      " 8   BX_ALL_CASE_COUNT_7DAY_AVG  585 non-null    int64         \n",
      " 9   BK_CASE_COUNT               585 non-null    int64         \n",
      " 10  BK_PROBABLE_CASE_COUNT      585 non-null    int64         \n",
      " 11  BK_CASE_COUNT_7DAY_AVG      585 non-null    int64         \n",
      " 12  BK_ALL_CASE_COUNT_7DAY_AVG  585 non-null    int64         \n",
      " 13  MN_CASE_COUNT               585 non-null    int64         \n",
      " 14  MN_PROBABLE_CASE_COUNT      585 non-null    int64         \n",
      " 15  MN_CASE_COUNT_7DAY_AVG      585 non-null    int64         \n",
      " 16  MN_ALL_CASE_COUNT_7DAY_AVG  585 non-null    int64         \n",
      " 17  QN_CASE_COUNT               585 non-null    int64         \n",
      " 18  QN_PROBABLE_CASE_COUNT      585 non-null    int64         \n",
      " 19  QN_CASE_COUNT_7DAY_AVG      585 non-null    int64         \n",
      " 20  QN_ALL_CASE_COUNT_7DAY_AVG  585 non-null    int64         \n",
      " 21  SI_CASE_COUNT               585 non-null    int64         \n",
      " 22  SI_PROBABLE_CASE_COUNT      585 non-null    int64         \n",
      " 23  SI_CASE_COUNT_7DAY_AVG      585 non-null    int64         \n",
      " 24  SI_ALL_CASE_COUNT_7DAY_AVG  585 non-null    int64         \n",
      " 25  INCOMPLETE                  585 non-null    int64         \n",
      " 26  date                        585 non-null    datetime64[ns]\n",
      "dtypes: datetime64[ns](1), int64(25), object(1)\n",
      "memory usage: 123.5+ KB\n"
     ]
    }
   ],
   "source": [
    "covid_cases.info()"
   ],
   "metadata": {
    "collapsed": false,
    "pycharm": {
     "name": "#%%\n"
    }
   }
  },
  {
   "cell_type": "code",
   "execution_count": 19,
   "outputs": [
    {
     "data": {
      "text/plain": "    date_of_interest  CASE_COUNT  PROBABLE_CASE_COUNT  CASE_COUNT_7DAY_AVG  \\\n307       01/01/2021        1336                  784                 3805   \n308       01/02/2021        4186                 1066                 3910   \n309       01/03/2021        3452                  983                 3991   \n310       01/04/2021        6587                 1407                 4162   \n311       01/05/2021        6148                 1355                 4297   \n\n     ALL_CASE_COUNT_7DAY_AVG  BX_CASE_COUNT  BX_PROBABLE_CASE_COUNT  \\\n307                     4751            206                     161   \n308                     4880            723                     187   \n309                     4970            510                     178   \n310                     5171           1254                     286   \n311                     5357           1165                     255   \n\n     BX_CASE_COUNT_7DAY_AVG  BX_ALL_CASE_COUNT_7DAY_AVG  BK_CASE_COUNT  ...  \\\n307                     695                         866            413  ...   \n308                     721                         898           1104  ...   \n309                     726                         904           1058  ...   \n310                     759                         948           1892  ...   \n311                     784                         981           1757  ...   \n\n     QN_CASE_COUNT  QN_PROBABLE_CASE_COUNT  QN_CASE_COUNT_7DAY_AVG  \\\n307            432                     258                    1144   \n308           1333                     319                    1181   \n309           1089                     307                    1213   \n310           1872                     415                    1262   \n311           1818                     408                    1292   \n\n     QN_ALL_CASE_COUNT_7DAY_AVG  SI_CASE_COUNT  SI_PROBABLE_CASE_COUNT  \\\n307                        1454            122                      76   \n308                        1495            510                     109   \n309                        1525            399                      82   \n310                        1578            657                     143   \n311                        1621            518                      99   \n\n     SI_CASE_COUNT_7DAY_AVG  SI_ALL_CASE_COUNT_7DAY_AVG  INCOMPLETE       date  \n307                     403                         487           0 2021-01-01  \n308                     420                         505           0 2021-01-02  \n309                     433                         518           0 2021-01-03  \n310                     446                         539           0 2021-01-04  \n311                     437                         533           0 2021-01-05  \n\n[5 rows x 27 columns]",
      "text/html": "<div>\n<style scoped>\n    .dataframe tbody tr th:only-of-type {\n        vertical-align: middle;\n    }\n\n    .dataframe tbody tr th {\n        vertical-align: top;\n    }\n\n    .dataframe thead th {\n        text-align: right;\n    }\n</style>\n<table border=\"1\" class=\"dataframe\">\n  <thead>\n    <tr style=\"text-align: right;\">\n      <th></th>\n      <th>date_of_interest</th>\n      <th>CASE_COUNT</th>\n      <th>PROBABLE_CASE_COUNT</th>\n      <th>CASE_COUNT_7DAY_AVG</th>\n      <th>ALL_CASE_COUNT_7DAY_AVG</th>\n      <th>BX_CASE_COUNT</th>\n      <th>BX_PROBABLE_CASE_COUNT</th>\n      <th>BX_CASE_COUNT_7DAY_AVG</th>\n      <th>BX_ALL_CASE_COUNT_7DAY_AVG</th>\n      <th>BK_CASE_COUNT</th>\n      <th>...</th>\n      <th>QN_CASE_COUNT</th>\n      <th>QN_PROBABLE_CASE_COUNT</th>\n      <th>QN_CASE_COUNT_7DAY_AVG</th>\n      <th>QN_ALL_CASE_COUNT_7DAY_AVG</th>\n      <th>SI_CASE_COUNT</th>\n      <th>SI_PROBABLE_CASE_COUNT</th>\n      <th>SI_CASE_COUNT_7DAY_AVG</th>\n      <th>SI_ALL_CASE_COUNT_7DAY_AVG</th>\n      <th>INCOMPLETE</th>\n      <th>date</th>\n    </tr>\n  </thead>\n  <tbody>\n    <tr>\n      <th>307</th>\n      <td>01/01/2021</td>\n      <td>1336</td>\n      <td>784</td>\n      <td>3805</td>\n      <td>4751</td>\n      <td>206</td>\n      <td>161</td>\n      <td>695</td>\n      <td>866</td>\n      <td>413</td>\n      <td>...</td>\n      <td>432</td>\n      <td>258</td>\n      <td>1144</td>\n      <td>1454</td>\n      <td>122</td>\n      <td>76</td>\n      <td>403</td>\n      <td>487</td>\n      <td>0</td>\n      <td>2021-01-01</td>\n    </tr>\n    <tr>\n      <th>308</th>\n      <td>01/02/2021</td>\n      <td>4186</td>\n      <td>1066</td>\n      <td>3910</td>\n      <td>4880</td>\n      <td>723</td>\n      <td>187</td>\n      <td>721</td>\n      <td>898</td>\n      <td>1104</td>\n      <td>...</td>\n      <td>1333</td>\n      <td>319</td>\n      <td>1181</td>\n      <td>1495</td>\n      <td>510</td>\n      <td>109</td>\n      <td>420</td>\n      <td>505</td>\n      <td>0</td>\n      <td>2021-01-02</td>\n    </tr>\n    <tr>\n      <th>309</th>\n      <td>01/03/2021</td>\n      <td>3452</td>\n      <td>983</td>\n      <td>3991</td>\n      <td>4970</td>\n      <td>510</td>\n      <td>178</td>\n      <td>726</td>\n      <td>904</td>\n      <td>1058</td>\n      <td>...</td>\n      <td>1089</td>\n      <td>307</td>\n      <td>1213</td>\n      <td>1525</td>\n      <td>399</td>\n      <td>82</td>\n      <td>433</td>\n      <td>518</td>\n      <td>0</td>\n      <td>2021-01-03</td>\n    </tr>\n    <tr>\n      <th>310</th>\n      <td>01/04/2021</td>\n      <td>6587</td>\n      <td>1407</td>\n      <td>4162</td>\n      <td>5171</td>\n      <td>1254</td>\n      <td>286</td>\n      <td>759</td>\n      <td>948</td>\n      <td>1892</td>\n      <td>...</td>\n      <td>1872</td>\n      <td>415</td>\n      <td>1262</td>\n      <td>1578</td>\n      <td>657</td>\n      <td>143</td>\n      <td>446</td>\n      <td>539</td>\n      <td>0</td>\n      <td>2021-01-04</td>\n    </tr>\n    <tr>\n      <th>311</th>\n      <td>01/05/2021</td>\n      <td>6148</td>\n      <td>1355</td>\n      <td>4297</td>\n      <td>5357</td>\n      <td>1165</td>\n      <td>255</td>\n      <td>784</td>\n      <td>981</td>\n      <td>1757</td>\n      <td>...</td>\n      <td>1818</td>\n      <td>408</td>\n      <td>1292</td>\n      <td>1621</td>\n      <td>518</td>\n      <td>99</td>\n      <td>437</td>\n      <td>533</td>\n      <td>0</td>\n      <td>2021-01-05</td>\n    </tr>\n  </tbody>\n</table>\n<p>5 rows × 27 columns</p>\n</div>"
     },
     "execution_count": 19,
     "metadata": {},
     "output_type": "execute_result"
    }
   ],
   "source": [
    "covid_cases = covid_cases[covid_cases['date'].dt.year == 2021]\n",
    "covid_cases.head()"
   ],
   "metadata": {
    "collapsed": false,
    "pycharm": {
     "name": "#%%\n"
    }
   }
  },
  {
   "cell_type": "code",
   "execution_count": 45,
   "outputs": [
    {
     "data": {
      "text/plain": "date\n1     137485\n2      86462\n3      92016\n4      54334\n5      13564\n6       5248\n7      18689\n8      45989\n9      38507\n10      4459\nName: CASE_COUNT, dtype: int64"
     },
     "execution_count": 45,
     "metadata": {},
     "output_type": "execute_result"
    }
   ],
   "source": [
    "monthly_covid_cases = covid_cases.groupby(covid_cases.date.dt.month).CASE_COUNT.sum()\n",
    "monthly_covid_cases"
   ],
   "metadata": {
    "collapsed": false,
    "pycharm": {
     "name": "#%%\n"
    }
   }
  },
  {
   "cell_type": "code",
   "execution_count": 46,
   "outputs": [
    {
     "data": {
      "text/plain": "pandas.core.series.Series"
     },
     "execution_count": 46,
     "metadata": {},
     "output_type": "execute_result"
    }
   ],
   "source": [
    "type(monthly_covid_cases)"
   ],
   "metadata": {
    "collapsed": false,
    "pycharm": {
     "name": "#%%\n"
    }
   }
  },
  {
   "cell_type": "code",
   "execution_count": 47,
   "outputs": [
    {
     "data": {
      "text/plain": "date\n1    137485\n2     86462\n3     92016\n4     54334\n5     13564\n6      5248\n7     18689\n8     45989\n9     38507\nName: CASE_COUNT, dtype: int64"
     },
     "execution_count": 47,
     "metadata": {},
     "output_type": "execute_result"
    }
   ],
   "source": [
    "monthly_covid_cases = monthly_covid_cases.drop(10)\n",
    "monthly_covid_cases"
   ],
   "metadata": {
    "collapsed": false,
    "pycharm": {
     "name": "#%%\n"
    }
   }
  },
  {
   "cell_type": "code",
   "execution_count": 48,
   "outputs": [
    {
     "data": {
      "text/plain": "['JAN', 'FEB', 'MAR', 'APR', 'MAY', 'JUN', 'JUL', 'AUG', 'SEP']"
     },
     "execution_count": 48,
     "metadata": {},
     "output_type": "execute_result"
    }
   ],
   "source": [
    "import calendar\n",
    "\n",
    "month_index = []\n",
    "\n",
    "for month_num in range(1,10):\n",
    "    month_index.append(calendar.month_abbr[month_num].upper())\n",
    "\n",
    "month_index"
   ],
   "metadata": {
    "collapsed": false,
    "pycharm": {
     "name": "#%%\n"
    }
   }
  },
  {
   "cell_type": "code",
   "execution_count": 51,
   "outputs": [
    {
     "data": {
      "text/plain": "JAN    137485\nFEB     86462\nMAR     92016\nAPR     54334\nMAY     13564\nJUN      5248\nJUL     18689\nAUG     45989\nSEP     38507\ndtype: int64"
     },
     "execution_count": 51,
     "metadata": {},
     "output_type": "execute_result"
    }
   ],
   "source": [
    "monthly_cases = pd.Series(monthly_covid_cases.values, index=month_index)\n",
    "monthly_cases"
   ],
   "metadata": {
    "collapsed": false,
    "pycharm": {
     "name": "#%%\n"
    }
   }
  },
  {
   "cell_type": "code",
   "execution_count": 52,
   "outputs": [
    {
     "name": "stdout",
     "output_type": "stream",
     "text": [
      "Stored 'monthly_cases' (Series)\n"
     ]
    }
   ],
   "source": [
    "%store monthly_cases"
   ],
   "metadata": {
    "collapsed": false,
    "pycharm": {
     "name": "#%%\n"
    }
   }
  },
  {
   "cell_type": "code",
   "execution_count": null,
   "outputs": [],
   "source": [
    "pd.concat([])"
   ],
   "metadata": {
    "collapsed": false,
    "pycharm": {
     "name": "#%%\n"
    }
   }
  }
 ],
 "metadata": {
  "kernelspec": {
   "display_name": "Python 3",
   "language": "python",
   "name": "python3"
  },
  "language_info": {
   "codemirror_mode": {
    "name": "ipython",
    "version": 2
   },
   "file_extension": ".py",
   "mimetype": "text/x-python",
   "name": "python",
   "nbconvert_exporter": "python",
   "pygments_lexer": "ipython2",
   "version": "2.7.6"
  }
 },
 "nbformat": 4,
 "nbformat_minor": 0
}